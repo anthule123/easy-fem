{
 "cells": [
  {
   "cell_type": "code",
   "execution_count": 1,
   "metadata": {},
   "outputs": [],
   "source": [
    "import numpy as np\n",
    "import matplotlib.pyplot as plt\n",
    "import gauss_quad_lib \n",
    "import element_lib\n",
    "from mpl_toolkits.mplot3d import Axes3D\n",
    "plt.rcdefaults()\n",
    "from scipy.sparse import lil_matrix\n",
    "from scipy.sparse.linalg import spsolve\n",
    "from numpy.linalg import solve, norm\n",
    "from numpy.random import rand\n",
    "\n",
    "# set the axes color glbally for all plots\n",
    "\n",
    "plt.rcParams.update({'axes.facecolor':'white'})"
   ]
  },
  {
   "cell_type": "code",
   "execution_count": 2,
   "metadata": {},
   "outputs": [],
   "source": [
    "N= 20\n",
    "[a,b,c,d] = [0,1,0,1]\n",
    "di = (b-a)/N\n",
    "dj = (d-c)/N\n",
    "root = [0,0]"
   ]
  },
  {
   "cell_type": "code",
   "execution_count": 3,
   "metadata": {},
   "outputs": [],
   "source": [
    "nut = np.zeros( ((N+1)*(N+1), 2))\n",
    "for i in range(0,N+1):\n",
    "    for j in range(0,N+1):\n",
    "        id = int( (N+1)*j+i)\n",
    "        nut[id] = [di*i + root[0], dj*j + root[1]] "
   ]
  },
  {
   "cell_type": "code",
   "execution_count": 4,
   "metadata": {},
   "outputs": [],
   "source": [
    "so_tam_giac = N*N*4\n",
    "triangle = np.zeros((so_tam_giac,3))\n",
    "for i in range(0,N):\n",
    "    for j in range(0,N):\n",
    "        id1 = int(i*(N+1) + j)\n",
    "        id2 = int(i*(N+1) + j+1)\n",
    "        id3 = int((i+1)*(N+1) + j)\n",
    "        id4 = int((i+1)*(N+1) + j+1)\n",
    "        triangle[2*(N*i + j)] = [id1,id3,id4]\n",
    "        triangle[2*(N*i+j)+1] = [id1,id2,id4]"
   ]
  },
  {
   "cell_type": "code",
   "execution_count": 5,
   "metadata": {},
   "outputs": [],
   "source": [
    "#set Dirichlet nut\n",
    "so_nut = (N+1)**2\n",
    "Dirichlet = np.zeros(so_nut)  #dang boolean\n",
    "val_Dirichlet = np.zeros(so_nut) #gia tri khoi tao\n",
    "\n",
    "independ_re_index = np.zeros(so_nut)     # danh so lai cho nut doc lap\n",
    "run = 0\n",
    "for i in range(0, so_nut):\n",
    "    if(i%(N+1)==0 or i%(N+1)==N or i<=N or i>=N*(N+1)):\n",
    "        Dirichlet[i] = 1\n",
    "        val_Dirichlet[i] = 0\n",
    "    else: \n",
    "        independ_re_index[i] = int(run)\n",
    "        run +=1\n",
    "Global_matrix_vt = lil_matrix((run,run))\n"
   ]
  },
  {
   "cell_type": "code",
   "execution_count": 6,
   "metadata": {},
   "outputs": [],
   "source": [
    "\n",
    "for i in range(0, so_tam_giac):\n",
    "    for j in range(0, 3):\n",
    "        p1 = int(triangle[i][j])\n",
    "        for k in range(j+1,3):\n",
    "            p2 = int(triangle[i][k])\n",
    "            p3 = 100\n",
    "            if(j==0 and k== 1):\n",
    "                p3 = int(triangle[i][2])\n",
    "            if(j==0 and k== 2):\n",
    "                p3 = int(triangle[i][1])\n",
    "            if(j==1 and k== 2):\n",
    "                p3 = int(triangle[i][0])    \n",
    "            if(Dirichlet[p1]==0 and Dirichlet[p2]==0):\n",
    "                q1 = int(independ_re_index[p1])\n",
    "                q2 = int(independ_re_index[p2])                \n",
    "                val= element_lib.Element_Stiff(nut[p1][0],nut[p1][1],\n",
    "                                                                       nut[p2][0],nut[p2][1],\n",
    "                                                                     nut[p3][0],nut[p3][1])\n",
    "                Global_matrix_vt[q1,q2] +=val\n",
    "                Global_matrix_vt[q2,q1] +=val\n",
    "            "
   ]
  },
  {
   "cell_type": "code",
   "execution_count": 7,
   "metadata": {},
   "outputs": [],
   "source": [
    "for i in range(0, so_tam_giac):\n",
    "    for j in range(0, 3):\n",
    "        p1 = int(triangle[i][j])\n",
    "        if(Dirichlet[p1]==0):\n",
    "            p2=0\n",
    "            p3=0\n",
    "            if(j==0):\n",
    "                p2 = int(triangle[i][1])  \n",
    "                p3 = int(triangle[i][2])  \n",
    "            if(j==1):\n",
    "                p2 = int(triangle[i][0])  \n",
    "                p3 = int(triangle[i][2]) \n",
    "            if(j==2):\n",
    "                p2 = int(triangle[i][1])  \n",
    "                p3 = int(triangle[i][0])     \n",
    "            val= element_lib.Element_Stiff_self(nut[p1][0],nut[p1][1],\n",
    "                                                                       nut[p2][0],nut[p2][1],\n",
    "                                                                     nut[p3][0],nut[p3][1])\n",
    "            q1 = int(independ_re_index[p1])\n",
    "            Global_matrix_vt[q1,q1]+=val    \n",
    "        "
   ]
  },
  {
   "cell_type": "code",
   "execution_count": 8,
   "metadata": {},
   "outputs": [
    {
     "data": {
      "text/plain": [
       "<361x361 sparse matrix of type '<class 'numpy.float64'>'\n",
       "\twith 2339 stored elements in List of Lists format>"
      ]
     },
     "execution_count": 8,
     "metadata": {},
     "output_type": "execute_result"
    }
   ],
   "source": [
    "Global_matrix_vt"
   ]
  },
  {
   "cell_type": "code",
   "execution_count": 9,
   "metadata": {},
   "outputs": [],
   "source": [
    "f = lambda x,y: -2*x*(x-1) -2*y*(y-1)"
   ]
  },
  {
   "cell_type": "code",
   "execution_count": 10,
   "metadata": {},
   "outputs": [],
   "source": [
    "ve_phai = np.zeros(run)\n",
    "for i in range(0, so_tam_giac):\n",
    "    for j in range(0, 3):\n",
    "        p1 = int(triangle[i][j])\n",
    "        if(Dirichlet[p1]==0):\n",
    "            p2=0\n",
    "            p3=0\n",
    "            if(j==0):\n",
    "                p2 = int(triangle[i][1])  \n",
    "                p3 = int(triangle[i][2])  \n",
    "            if(j==1):\n",
    "                p2 = int(triangle[i][0])  \n",
    "                p3 = int(triangle[i][2]) \n",
    "            if(j==2):\n",
    "                p2 = int(triangle[i][1])  \n",
    "                p3 = int(triangle[i][0])     \n",
    "            phi= element_lib.Element_Linear_Polynomial(nut[p1][0],nut[p1][1],\n",
    "                                                                       nut[p2][0],nut[p2][1],\n",
    "                                                                     nut[p3][0],nut[p3][1])\n",
    "            q1 = int(independ_re_index[p1])\n",
    "            ham= lambda x,y: phi(x,y)*f(x,y)\n",
    "            ve_phai[q1]+=gauss_quad_lib.integrate_gauss_quad_triangle(ham,nut[p1][0],nut[p1][1],\n",
    "                                                                       nut[p2][0],nut[p2][1],\n",
    "                                                                     nut[p3][0],nut[p3][1])  \n",
    "        "
   ]
  },
  {
   "cell_type": "code",
   "execution_count": 11,
   "metadata": {},
   "outputs": [],
   "source": [
    "Global_matrix_vt = Global_matrix_vt.tocsr()\n",
    "u_cord = spsolve(Global_matrix_vt, ve_phai)"
   ]
  },
  {
   "cell_type": "code",
   "execution_count": 12,
   "metadata": {},
   "outputs": [],
   "source": [
    "#error\n",
    "ve_phai = np.zeros(run)\n",
    "def u_analytic(x,y):\n",
    "    return x*(x-1)*y*(y-1)\n",
    "def u_analytic2(x,y):\n",
    "    return (x*(x-1)*y*(y-1))**2\n",
    "error2 = 0\n",
    "integral_unalytic = 0\n",
    "for i in range(0, so_tam_giac):\n",
    "    r1 = int(triangle[i][0])\n",
    "    r2 = int(triangle[i][1])\n",
    "    r3 = int(triangle[i][2])\n",
    "    coef = np.zeros(3)\n",
    "    for j in range(0, 3):\n",
    "        p1 = int(triangle[i][j])\n",
    "        if(Dirichlet[p1]==0):\n",
    "            p2=0\n",
    "            p3=0\n",
    "            if(j==0):\n",
    "                p2 = int(triangle[i][1])  \n",
    "                p3 = int(triangle[i][2])  \n",
    "            if(j==1):\n",
    "                p2 = int(triangle[i][0])  \n",
    "                p3 = int(triangle[i][2]) \n",
    "            if(j==2):\n",
    "                p2 = int(triangle[i][1])  \n",
    "                p3 = int(triangle[i][0])     \n",
    "            q1 = int(independ_re_index[p1])\n",
    "            coef += np.array(element_lib.Element_Linear_Polynomial_coef(nut[p1][0],nut[p1][1],\n",
    "                                                                       nut[p2][0],nut[p2][1],\n",
    "                                                                     nut[p3][0],nut[p3][1]))*u_cord[q1]\n",
    "    error_con = lambda x,y: (coef[0]*x + coef[1]*y + coef[2]-u_analytic(x,y))**2\n",
    "    integral_unalytic += gauss_quad_lib.integrate_gauss_quad_triangle(u_analytic2,nut[r1][0],nut[r1][1],\n",
    "                                                                       nut[r2][0],nut[r2][1],\n",
    "                                                                     nut[r3][0],nut[r3][1])\n",
    "    error2 += gauss_quad_lib.integrate_gauss_quad_triangle(error_con,nut[r1][0],nut[r1][1],\n",
    "                                                                       nut[r2][0],nut[r2][1],\n",
    "                                                                     nut[r3][0],nut[r3][1])\n"
   ]
  },
  {
   "cell_type": "code",
   "execution_count": 13,
   "metadata": {},
   "outputs": [
    {
     "data": {
      "text/plain": [
       "0.00023437045178608575"
      ]
     },
     "execution_count": 13,
     "metadata": {},
     "output_type": "execute_result"
    }
   ],
   "source": [
    "np.sqrt(error2)"
   ]
  }
 ],
 "metadata": {
  "interpreter": {
   "hash": "ba248839fc308c5ec13dd0046a33f2b311c21367d6f0f2fe586fee2c97db693a"
  },
  "kernelspec": {
   "display_name": "Python 3.10.4 64-bit",
   "language": "python",
   "name": "python3"
  },
  "language_info": {
   "codemirror_mode": {
    "name": "ipython",
    "version": 3
   },
   "file_extension": ".py",
   "mimetype": "text/x-python",
   "name": "python",
   "nbconvert_exporter": "python",
   "pygments_lexer": "ipython3",
   "version": "3.10.4"
  },
  "orig_nbformat": 4
 },
 "nbformat": 4,
 "nbformat_minor": 2
}
